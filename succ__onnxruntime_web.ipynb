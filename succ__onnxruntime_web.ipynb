{
  "nbformat": 4,
  "nbformat_minor": 0,
  "metadata": {
    "colab": {
      "provenance": []
    },
    "kernelspec": {
      "name": "python3",
      "display_name": "Python 3"
    },
    "language_info": {
      "name": "python"
    }
  },
  "cells": [
    {
      "cell_type": "code",
      "execution_count": null,
      "metadata": {
        "id": "IMmC3a4hZElE"
      },
      "outputs": [],
      "source": []
    },
    {
      "cell_type": "code",
      "source": [],
      "metadata": {
        "id": "5zAzeCzAZPZt"
      },
      "execution_count": null,
      "outputs": []
    },
    {
      "cell_type": "code",
      "source": [],
      "metadata": {
        "id": "ZArm73-9ZPcL"
      },
      "execution_count": null,
      "outputs": []
    },
    {
      "cell_type": "code",
      "source": [
        "%cd /content\n",
        "!git clone https://github.com/microsoft/onnxruntime-inference-examples.git"
      ],
      "metadata": {
        "colab": {
          "base_uri": "https://localhost:8080/"
        },
        "id": "a5OIadb5ZPez",
        "outputId": "710270a4-f08e-442a-dde2-6820d4e19761"
      },
      "execution_count": 1,
      "outputs": [
        {
          "output_type": "stream",
          "name": "stdout",
          "text": [
            "/content\n",
            "Cloning into 'onnxruntime-inference-examples'...\n",
            "remote: Enumerating objects: 5809, done.\u001b[K\n",
            "remote: Counting objects: 100% (1012/1012), done.\u001b[K\n",
            "remote: Compressing objects: 100% (265/265), done.\u001b[K\n",
            "remote: Total 5809 (delta 839), reused 772 (delta 743), pack-reused 4797 (from 1)\u001b[K\n",
            "Receiving objects: 100% (5809/5809), 446.39 MiB | 20.78 MiB/s, done.\n",
            "Resolving deltas: 100% (2414/2414), done.\n",
            "Updating files: 100% (1014/1014), done.\n"
          ]
        }
      ]
    },
    {
      "cell_type": "code",
      "source": [
        "%cd /content/onnxruntime-inference-examples/js/chat"
      ],
      "metadata": {
        "colab": {
          "base_uri": "https://localhost:8080/"
        },
        "id": "ZpSm6pn9Zkpj",
        "outputId": "5b3403da-02ce-4fc1-fc2b-5543aa71d638"
      },
      "execution_count": 5,
      "outputs": [
        {
          "output_type": "stream",
          "name": "stdout",
          "text": [
            "/content/onnxruntime-inference-examples/js/chat\n"
          ]
        }
      ]
    },
    {
      "cell_type": "code",
      "source": [
        "!npm install"
      ],
      "metadata": {
        "colab": {
          "base_uri": "https://localhost:8080/"
        },
        "id": "c4WG68eTZSWe",
        "outputId": "2151c43c-d1a1-4d60-a822-2dc96e03e74d"
      },
      "execution_count": 6,
      "outputs": [
        {
          "output_type": "stream",
          "name": "stdout",
          "text": [
            "\u001b[1G\u001b[0K⠙\u001b[1G\u001b[0K⠹\u001b[1G\u001b[0K⠸\u001b[1G\u001b[0K⠼\u001b[1G\u001b[0K⠴\u001b[1G\u001b[0K⠦\u001b[1G\u001b[0K⠧\u001b[1G\u001b[0K⠇\u001b[1G\u001b[0K⠏\u001b[1G\u001b[0K⠋\u001b[1G\u001b[0K⠙\u001b[1G\u001b[0K⠹\u001b[1G\u001b[0K⠸\u001b[1G\u001b[0K⠼\u001b[1G\u001b[0K⠴\u001b[1G\u001b[0K⠦\u001b[1G\u001b[0K⠧\u001b[1G\u001b[0K⠇\u001b[1G\u001b[0K⠏\u001b[1G\u001b[0K⠋\u001b[1G\u001b[0K⠙\u001b[1G\u001b[0K⠹\u001b[1G\u001b[0K⠸\u001b[1G\u001b[0K⠼\u001b[1G\u001b[0K⠴\u001b[1G\u001b[0K⠦\u001b[1G\u001b[0K⠧\u001b[1G\u001b[0K⠇\u001b[1G\u001b[0K⠏\u001b[1G\u001b[0K⠋\u001b[1G\u001b[0K⠙\u001b[1G\u001b[0K⠹\u001b[1G\u001b[0K⠸\u001b[1G\u001b[0K⠼\u001b[1G\u001b[0K⠴\u001b[1G\u001b[0K⠦\u001b[1G\u001b[0K⠧\u001b[1G\u001b[0K⠇\u001b[1G\u001b[0K⠏\u001b[1G\u001b[0K⠋\u001b[1G\u001b[0K⠙\u001b[1G\u001b[0K⠹\u001b[1G\u001b[0K⠸\u001b[1G\u001b[0K⠼\u001b[1G\u001b[0K⠴\u001b[1G\u001b[0K⠦\u001b[1G\u001b[0K⠧\u001b[1G\u001b[0K⠇\u001b[1G\u001b[0K⠏\u001b[1G\u001b[0K⠋\u001b[1G\u001b[0K⠙\u001b[1G\u001b[0K⠹\u001b[1G\u001b[0K⠸\u001b[1G\u001b[0K⠼\u001b[1G\u001b[0K⠴\u001b[1G\u001b[0K⠦\u001b[1G\u001b[0K⠧\u001b[1G\u001b[0K⠇\u001b[1G\u001b[0K⠏\u001b[1G\u001b[0K⠋\u001b[1G\u001b[0K⠙\u001b[1G\u001b[0K⠹\u001b[1G\u001b[0K⠸\u001b[1G\u001b[0K⠼\u001b[1G\u001b[0K⠴\u001b[1G\u001b[0K⠦\u001b[1G\u001b[0K⠧\u001b[1G\u001b[0K⠇\u001b[1G\u001b[0K⠏\u001b[1G\u001b[0K⠋\u001b[1G\u001b[0K⠙\u001b[1G\u001b[0K⠹\u001b[1G\u001b[0K⠸\u001b[1G\u001b[0K⠼\u001b[1G\u001b[0K⠴\u001b[1G\u001b[0K⠦\u001b[1G\u001b[0K⠧\u001b[1G\u001b[0K⠇\u001b[1G\u001b[0K⠏\u001b[1G\u001b[0K⠋\u001b[1G\u001b[0K⠙\u001b[1G\u001b[0K⠹\u001b[1G\u001b[0K⠸\u001b[1G\u001b[0K⠼\u001b[1G\u001b[0K⠴\u001b[1G\u001b[0K⠦\u001b[1G\u001b[0K⠧\u001b[1G\u001b[0K⠇\u001b[1G\u001b[0K⠏\u001b[1G\u001b[0K⠋\u001b[1G\u001b[0K⠙\u001b[1G\u001b[0K⠹\u001b[1G\u001b[0K⠸\u001b[1G\u001b[0K⠼\u001b[1G\u001b[0K⠴\u001b[1G\u001b[0K⠦\u001b[1G\u001b[0K⠧\u001b[1G\u001b[0K⠇\u001b[1G\u001b[0K⠏\u001b[1G\u001b[0K⠋\u001b[1G\u001b[0K⠙\u001b[1G\u001b[0K⠹\u001b[1G\u001b[0K⠸\u001b[1G\u001b[0K⠼\u001b[1G\u001b[0K⠴\u001b[1G\u001b[0K⠦\u001b[1G\u001b[0K⠧\u001b[1G\u001b[0K⠇\u001b[1G\u001b[0K⠏\u001b[1G\u001b[0K⠋\u001b[1G\u001b[0K⠙\u001b[1G\u001b[0K⠹\u001b[1G\u001b[0K⠸\u001b[1G\u001b[0K⠼\u001b[1G\u001b[0K⠴\u001b[1G\u001b[0K⠦\u001b[1G\u001b[0K⠧\u001b[1G\u001b[0K⠇\u001b[1G\u001b[0K⠏\u001b[1G\u001b[0K⠋\u001b[1G\u001b[0K⠙\u001b[1G\u001b[0K⠹\u001b[1G\u001b[0K⠸\u001b[1G\u001b[0K⠼\u001b[1G\u001b[0K⠴\u001b[1G\u001b[0K⠦\u001b[1G\u001b[0K⠧\u001b[1G\u001b[0K⠇\u001b[1G\u001b[0K⠏\u001b[1G\u001b[0K⠋\u001b[1G\u001b[0K⠙\u001b[1G\u001b[0K⠹\u001b[1G\u001b[0K⠸\u001b[1G\u001b[0K⠼\u001b[1G\u001b[0K⠴\u001b[1G\u001b[0K⠦\u001b[1G\u001b[0K⠧\u001b[1G\u001b[0K⠇\u001b[1G\u001b[0K⠏\u001b[1G\u001b[0K⠋\u001b[1G\u001b[0K⠙\u001b[1G\u001b[0K⠹\u001b[1G\u001b[0K⠸\u001b[1G\u001b[0K⠼\u001b[1G\u001b[0K⠴\u001b[1G\u001b[0K⠦\u001b[1G\u001b[0K⠧\u001b[1G\u001b[0K⠇\u001b[1G\u001b[0K⠏\u001b[1G\u001b[0K⠋\u001b[1G\u001b[0K⠙\u001b[1G\u001b[0K⠹\u001b[1G\u001b[0K⠸\u001b[1G\u001b[0K⠼\u001b[1G\u001b[0K⠴\u001b[1G\u001b[0K⠦\u001b[1G\u001b[0K⠧\u001b[1G\u001b[0K⠇\u001b[1G\u001b[0K⠏\u001b[1G\u001b[0K⠋\u001b[1G\u001b[0K⠙\u001b[1G\u001b[0K⠹\u001b[1G\u001b[0K⠸\u001b[1G\u001b[0K⠼\u001b[1G\u001b[0K⠴\u001b[1G\u001b[0K⠦\u001b[1G\u001b[0K⠧\u001b[1G\u001b[0K⠇\u001b[1G\u001b[0K⠏\u001b[1G\u001b[0K⠋\u001b[1G\u001b[0K⠙\u001b[1G\u001b[0K⠹\u001b[1G\u001b[0K⠸\u001b[1G\u001b[0K⠼\u001b[1G\u001b[0K⠴\u001b[1G\u001b[0K⠦\u001b[1G\u001b[0K⠧\u001b[1G\u001b[0K⠇\u001b[1G\u001b[0K⠏\u001b[1G\u001b[0K⠋\u001b[1G\u001b[0K⠙\u001b[1G\u001b[0K⠹\u001b[1G\u001b[0K⠸\u001b[1G\u001b[0K⠼\u001b[1G\u001b[0K⠴\u001b[1G\u001b[0K⠦\u001b[1G\u001b[0K⠧\u001b[1G\u001b[0K⠇\u001b[1G\u001b[0K⠏\u001b[1G\u001b[0K⠋\u001b[1G\u001b[0K⠙\u001b[1G\u001b[0K⠹\u001b[1G\u001b[0K⠸\u001b[1G\u001b[0K⠼\u001b[1G\u001b[0K⠴\u001b[1G\u001b[0K⠦\u001b[1G\u001b[0K⠧\u001b[1G\u001b[0K⠇\u001b[1G\u001b[0K⠏\u001b[1G\u001b[0K⠋\u001b[1G\u001b[0K⠙\u001b[1G\u001b[0K⠹\u001b[1G\u001b[0K⠸\u001b[1G\u001b[0K⠼\u001b[1G\u001b[0K⠴\u001b[1G\u001b[0K⠦\u001b[1G\u001b[0K⠧\u001b[1G\u001b[0K⠇\u001b[1G\u001b[0K⠏\u001b[1G\u001b[0K⠋\u001b[1G\u001b[0K⠙\u001b[1G\u001b[0K⠹\u001b[1G\u001b[0K⠸\u001b[1G\u001b[0K⠼\u001b[1G\u001b[0K⠴\u001b[1G\u001b[0K⠦\u001b[1G\u001b[0K⠧\u001b[1G\u001b[0K⠇\u001b[1G\u001b[0K⠏\u001b[1G\u001b[0K⠋\u001b[1G\u001b[0K⠙\u001b[1G\u001b[0K⠹\u001b[1G\u001b[0K⠸\u001b[1G\u001b[0K⠼\u001b[1G\u001b[0K⠴\u001b[1G\u001b[0K⠦\u001b[1G\u001b[0K⠧\u001b[1G\u001b[0K⠇\u001b[1G\u001b[0K⠏\u001b[1G\u001b[0K⠋\u001b[1G\u001b[0K⠙\u001b[1G\u001b[0K⠹\u001b[1G\u001b[0K⠸\u001b[1G\u001b[0K⠼\u001b[1G\u001b[0K⠴\u001b[1G\u001b[0K⠦\u001b[1G\u001b[0K⠧\u001b[1G\u001b[0K⠇\u001b[1G\u001b[0K⠏\u001b[1G\u001b[0K⠋\u001b[1G\u001b[0K⠙\u001b[1G\u001b[0K⠹\u001b[1G\u001b[0K⠸\u001b[1G\u001b[0K⠼\u001b[1G\u001b[0K⠴\u001b[1G\u001b[0K⠦\u001b[1G\u001b[0K⠧\u001b[1G\u001b[0K⠇\u001b[1G\u001b[0K⠏\u001b[1G\u001b[0K⠋\u001b[1G\u001b[0K⠙\u001b[1G\u001b[0K⠹\u001b[1G\u001b[0K⠸\u001b[1G\u001b[0K⠼\u001b[1G\u001b[0K⠴\u001b[1G\u001b[0K⠦\u001b[1G\u001b[0K⠧\u001b[1G\u001b[0K⠇\u001b[1G\u001b[0K⠏\u001b[1G\u001b[0K⠋\u001b[1G\u001b[0K⠙\u001b[1G\u001b[0K⠹\u001b[1G\u001b[0K⠸\u001b[1G\u001b[0K⠼\u001b[1G\u001b[0K⠴\u001b[1G\u001b[0K⠦\u001b[1G\u001b[0K⠧\u001b[1G\u001b[0K⠇\u001b[1G\u001b[0K⠏\u001b[1G\u001b[0K⠋\u001b[1G\u001b[0K⠙\u001b[1G\u001b[0K⠹\u001b[1G\u001b[0K⠸\u001b[1G\u001b[0K⠼\u001b[1G\u001b[0K⠴\u001b[1G\u001b[0K⠦\u001b[1G\u001b[0K⠧\u001b[1G\u001b[0K⠇\u001b[1G\u001b[0K⠏\u001b[1G\u001b[0K⠋\u001b[1G\u001b[0K⠙\u001b[1G\u001b[0K⠹\u001b[1G\u001b[0K⠸\u001b[1G\u001b[0K⠼\u001b[1G\u001b[0K⠴\u001b[1G\u001b[0K⠦\u001b[1G\u001b[0K⠧\u001b[1G\u001b[0K⠇\u001b[1G\u001b[0K⠏\u001b[1G\u001b[0K⠋\u001b[1G\u001b[0K⠙\u001b[1G\u001b[0K⠹\u001b[1G\u001b[0K⠸\u001b[1G\u001b[0K⠼\u001b[1G\u001b[0K⠴\u001b[1G\u001b[0K⠦\u001b[1G\u001b[0K⠧\u001b[1G\u001b[0K⠇\u001b[1G\u001b[0K⠏\u001b[1G\u001b[0K⠋\u001b[1G\u001b[0K⠙\u001b[1G\u001b[0K⠹\u001b[1G\u001b[0K⠸\u001b[1G\u001b[0K⠼\u001b[1G\u001b[0K⠴\u001b[1G\u001b[0K⠦\u001b[1G\u001b[0K⠧\u001b[1G\u001b[0K⠇\u001b[1G\u001b[0K⠏\u001b[1G\u001b[0K⠋\u001b[1G\u001b[0K⠙\u001b[1G\u001b[0K⠹\u001b[1G\u001b[0K⠸\u001b[1G\u001b[0K⠼\u001b[1G\u001b[0K⠴\u001b[1G\u001b[0K⠦\u001b[1G\u001b[0K⠧\u001b[1G\u001b[0K⠇\u001b[1G\u001b[0K⠏\u001b[1G\u001b[0K⠋\u001b[1G\u001b[0K⠙\u001b[1G\u001b[0K⠹\u001b[1G\u001b[0K⠸\u001b[1G\u001b[0K⠼\u001b[1G\u001b[0K⠴\u001b[1G\u001b[0K⠦\u001b[1G\u001b[0K⠧\u001b[1G\u001b[0K⠇\u001b[1G\u001b[0K⠏\u001b[1G\u001b[0K⠋\u001b[1G\u001b[0K⠙\u001b[1G\u001b[0K⠹\u001b[1G\u001b[0K⠸\u001b[1G\u001b[0K⠼\u001b[1G\u001b[0K⠴\u001b[1G\u001b[0K⠦\u001b[1G\u001b[0K⠧\u001b[1G\u001b[0K⠇\u001b[1G\u001b[0K⠏\u001b[1G\u001b[0K⠋\u001b[1G\u001b[0K⠙\u001b[1G\u001b[0K⠹\u001b[1G\u001b[0K⠸\u001b[1G\u001b[0K⠼\u001b[1G\u001b[0K⠴\u001b[1G\u001b[0K⠦\u001b[1G\u001b[0K⠧\u001b[1G\u001b[0K⠇\u001b[1G\u001b[0K⠏\u001b[1G\u001b[0K⠋\u001b[1G\u001b[0K⠙\u001b[1G\u001b[0K⠹\u001b[1G\u001b[0K⠸\u001b[1G\u001b[0K⠼\u001b[1G\u001b[0K⠴\u001b[1G\u001b[0K⠦\u001b[1G\u001b[0K⠧\u001b[1G\u001b[0K⠇\u001b[1G\u001b[0K⠏\u001b[1G\u001b[0K⠋\u001b[1G\u001b[0K⠙\u001b[1G\u001b[0K⠹\u001b[1G\u001b[0K⠸\u001b[1G\u001b[0K⠼\u001b[1G\u001b[0K⠴\u001b[1G\u001b[0K⠦\u001b[1G\u001b[0K⠧\u001b[1G\u001b[0K⠇\u001b[1G\u001b[0K⠏\u001b[1G\u001b[0K⠋\u001b[1G\u001b[0K⠙\u001b[1G\u001b[0K⠹\u001b[1G\u001b[0K⠸\u001b[1G\u001b[0K⠼\u001b[1G\u001b[0K⠴\u001b[1G\u001b[0K⠦\u001b[1G\u001b[0K⠧\u001b[1G\u001b[0K⠇\u001b[1G\u001b[0K⠏\u001b[1G\u001b[0K⠋\u001b[1G\u001b[0K⠙\u001b[1G\u001b[0K⠹\u001b[1G\u001b[0K⠸\u001b[1G\u001b[0K⠼\u001b[1G\u001b[0K⠴\u001b[1G\u001b[0K⠦\u001b[1G\u001b[0K⠧\u001b[1G\u001b[0K⠇\u001b[1G\u001b[0K⠏\u001b[1G\u001b[0K⠋\u001b[1G\u001b[0K⠙\u001b[1G\u001b[0K⠹\u001b[1G\u001b[0K⠸\u001b[1G\u001b[0K⠼\u001b[1G\u001b[0K⠴\u001b[1G\u001b[0K⠦\u001b[1G\u001b[0K\n",
            "added 391 packages, and audited 392 packages in 34s\n",
            "\u001b[1G\u001b[0K⠦\u001b[1G\u001b[0K\n",
            "\u001b[1G\u001b[0K⠦\u001b[1G\u001b[0K70 packages are looking for funding\n",
            "\u001b[1G\u001b[0K⠦\u001b[1G\u001b[0K  run `npm fund` for details\n",
            "\u001b[1G\u001b[0K⠦\u001b[1G\u001b[0K\n",
            "found \u001b[32m\u001b[1m0\u001b[22m\u001b[39m vulnerabilities\n",
            "\u001b[1G\u001b[0K⠦\u001b[1G\u001b[0K"
          ]
        }
      ]
    },
    {
      "cell_type": "code",
      "source": [
        "!npm run build"
      ],
      "metadata": {
        "colab": {
          "base_uri": "https://localhost:8080/"
        },
        "id": "zuC6cxAmZTG8",
        "outputId": "f522d82c-3bb1-4fc7-f99f-981e946c7b22"
      },
      "execution_count": 7,
      "outputs": [
        {
          "output_type": "stream",
          "name": "stdout",
          "text": [
            "\n",
            "> localchat@0.0.0 build\n",
            "> webpack\n",
            "\n",
            "\u001b[1G\u001b[0Kassets by path \u001b[1m\u001b[32mdist/*.wasm\u001b[39m\u001b[22m 37.3 MiB\n",
            "  asset \u001b[1m\u001b[32mdist/ort-wasm-simd-threaded.jsep.wasm\u001b[39m\u001b[22m 19.7 MiB \u001b[1m\u001b[32m[emitted]\u001b[39m\u001b[22m [from: node_modules/onnxruntime-web/dist/ort-wasm-simd-threaded.jsep.wasm] \u001b[1m\u001b[32m[copied]\u001b[39m\u001b[22m\n",
            "  asset \u001b[1m\u001b[32mdist/ort-wasm-simd.jsep.wasm\u001b[39m\u001b[22m 17.6 MiB \u001b[1m\u001b[32m[emitted]\u001b[39m\u001b[22m [from: node_modules/onnxruntime-web/dist/ort-wasm-simd.jsep.wasm] \u001b[1m\u001b[32m[copied]\u001b[39m\u001b[22m\n",
            "assets by path \u001b[1m\u001b[32mdist/*.js\u001b[39m\u001b[22m 4.75 MiB\n",
            "  asset \u001b[1m\u001b[32mdist/main.min.js\u001b[39m\u001b[22m 2.37 MiB \u001b[1m\u001b[32m[emitted]\u001b[39m\u001b[22m [javascript module] (name: dist/main.min) 1 related asset\n",
            "  asset \u001b[1m\u001b[32mdist/main.js\u001b[39m\u001b[22m 2.37 MiB \u001b[1m\u001b[32m[emitted]\u001b[39m\u001b[22m [javascript module] (name: dist/main) 1 related asset\n",
            "runtime modules 3.54 KiB 8 modules\n",
            "modules by path \u001b[1m./\u001b[39m\u001b[22m 2.22 MiB\n",
            "  modules by path \u001b[1m./node_modules/\u001b[39m\u001b[22m 2.21 MiB 30 modules\n",
            "  modules by path \u001b[1m./*.js\u001b[39m\u001b[22m 16.5 KiB\n",
            "    \u001b[1m./main.js\u001b[39m\u001b[22m 9.02 KiB \u001b[1m\u001b[33m[built]\u001b[39m\u001b[22m \u001b[1m\u001b[33m[code generated]\u001b[39m\u001b[22m\n",
            "    \u001b[1m./llm.js\u001b[39m\u001b[22m 7.5 KiB \u001b[1m\u001b[33m[built]\u001b[39m\u001b[22m \u001b[1m\u001b[33m[code generated]\u001b[39m\u001b[22m\n",
            "\u001b[1mfs (ignored)\u001b[39m\u001b[22m 15 bytes \u001b[1m\u001b[33m[built]\u001b[39m\u001b[22m \u001b[1m\u001b[33m[code generated]\u001b[39m\u001b[22m\n",
            "\u001b[1mpath (ignored)\u001b[39m\u001b[22m 15 bytes \u001b[1m\u001b[33m[built]\u001b[39m\u001b[22m \u001b[1m\u001b[33m[code generated]\u001b[39m\u001b[22m\n",
            "\u001b[1murl (ignored)\u001b[39m\u001b[22m 15 bytes \u001b[1m\u001b[33m[built]\u001b[39m\u001b[22m \u001b[1m\u001b[33m[code generated]\u001b[39m\u001b[22m\n",
            "\u001b[1msharp (ignored)\u001b[39m\u001b[22m 15 bytes \u001b[1m\u001b[33m[built]\u001b[39m\u001b[22m \u001b[1m\u001b[33m[code generated]\u001b[39m\u001b[22m\n",
            "\u001b[1mfs (ignored)\u001b[39m\u001b[22m 15 bytes \u001b[1m\u001b[33m[built]\u001b[39m\u001b[22m \u001b[1m\u001b[33m[code generated]\u001b[39m\u001b[22m\n",
            "\u001b[1mpath (ignored)\u001b[39m\u001b[22m 15 bytes \u001b[1m\u001b[33m[built]\u001b[39m\u001b[22m \u001b[1m\u001b[33m[code generated]\u001b[39m\u001b[22m\n",
            "\u001b[1monnxruntime-node (ignored)\u001b[39m\u001b[22m 15 bytes \u001b[1m\u001b[33m[built]\u001b[39m\u001b[22m \u001b[1m\u001b[33m[code generated]\u001b[39m\u001b[22m\n",
            "webpack 5.99.7 compiled \u001b[1m\u001b[32msuccessfully\u001b[39m\u001b[22m in 2993 ms\n",
            "\u001b[1G\u001b[0K⠙\u001b[1G\u001b[0K"
          ]
        }
      ]
    },
    {
      "cell_type": "code",
      "source": [
        "!pip install pyngrok"
      ],
      "metadata": {
        "colab": {
          "base_uri": "https://localhost:8080/"
        },
        "id": "3qg2o6RTZdvz",
        "outputId": "d51ba267-92ba-4404-ac13-515f05c3cee4"
      },
      "execution_count": 8,
      "outputs": [
        {
          "output_type": "stream",
          "name": "stdout",
          "text": [
            "Collecting pyngrok\n",
            "  Downloading pyngrok-7.2.5-py3-none-any.whl.metadata (8.9 kB)\n",
            "Requirement already satisfied: PyYAML>=5.1 in /usr/local/lib/python3.11/dist-packages (from pyngrok) (6.0.2)\n",
            "Downloading pyngrok-7.2.5-py3-none-any.whl (23 kB)\n",
            "Installing collected packages: pyngrok\n",
            "Successfully installed pyngrok-7.2.5\n"
          ]
        }
      ]
    },
    {
      "cell_type": "code",
      "source": [
        "%cd /content/onnxruntime-inference-examples/js/chat\n",
        "from pyngrok import ngrok\n",
        "import threading\n",
        "import time\n",
        "\n",
        "ngrok_token = \"2qoMyvN33sChLDfKL39OR8IDIxk_2hoKPdPQp4MUdSQbDPv6d\"\n",
        "ngrok.set_auth_token(ngrok_token)\n",
        "\n",
        "# Start ngrok in a separate thread to avoid blocking\n",
        "def start_ngrok():\n",
        "    public_url = ngrok.connect(8080).public_url\n",
        "    print(f\"🚀 Ngrok Tunnel Open: {public_url}\")\n",
        "\n",
        "ngrok_thread = threading.Thread(target=start_ngrok)\n",
        "ngrok_thread.start()\n",
        "\n",
        "# Wait for ngrok to start (optional)\n",
        "time.sleep(5)\n",
        "\n",
        "# Execute your node.js script\n",
        "!npm run dev"
      ],
      "metadata": {
        "colab": {
          "base_uri": "https://localhost:8080/"
        },
        "id": "77JzCgzDZfYU",
        "outputId": "40c977fc-0c52-42ca-8af1-9b0e8e93db20"
      },
      "execution_count": 10,
      "outputs": [
        {
          "output_type": "stream",
          "name": "stdout",
          "text": [
            "/content/onnxruntime-inference-examples/js/chat\n",
            "🚀 Ngrok Tunnel Open: https://3db5-34-122-147-1.ngrok-free.app\n"
          ]
        },
        {
          "output_type": "stream",
          "name": "stderr",
          "text": [
            "WARNING:pyngrok.process.ngrok:t=2025-04-27T22:40:05+0000 lvl=warn msg=\"failed to check for update\" obj=updater err=\"Post \\\"https://update.equinox.io/check\\\": context deadline exceeded\"\n"
          ]
        },
        {
          "output_type": "stream",
          "name": "stdout",
          "text": [
            "\n",
            "> localchat@0.0.0 dev\n",
            "> webpack serve --no-client-overlay\n",
            "\n",
            "\u001b[1G\u001b[0K/content/onnxruntime-inference-examples/js/chat/node_modules/webpack-dev-server/lib/Server.js:2631\n",
            "        throw error;\n",
            "        ^\n",
            "\n",
            "Error: listen EADDRINUSE: address already in use :::8080\n",
            "\u001b[90m    at Server.setupListenHandle [as _listen2] (node:net:1908:16)\u001b[39m\n",
            "\u001b[90m    at listenInCluster (node:net:1965:12)\u001b[39m\n",
            "\u001b[90m    at Server.listen (node:net:2067:7)\u001b[39m\n",
            "    at READ_WRITE \u001b[90m(/content/onnxruntime-inference-examples/js/chat/\u001b[39mnode_modules/\u001b[4mwebpack-dev-server\u001b[24m/lib/Server.js:3461:23\u001b[90m)\u001b[39m\n",
            "    at new Promise (<anonymous>)\n",
            "    at Server.start \u001b[90m(/content/onnxruntime-inference-examples/js/chat/\u001b[39mnode_modules/\u001b[4mwebpack-dev-server\u001b[24m/lib/Server.js:3459:7\u001b[90m)\u001b[39m\n",
            "    at async Command.<anonymous> \u001b[90m(/content/onnxruntime-inference-examples/js/chat/\u001b[39mnode_modules/\u001b[4m@webpack-cli\u001b[24m/serve/lib/index.js:158:21\u001b[90m)\u001b[39m\n",
            "    at async Command.parseAsync \u001b[90m(/content/onnxruntime-inference-examples/js/chat/\u001b[39mnode_modules/\u001b[4mwebpack-cli\u001b[24m/node_modules/\u001b[4mcommander\u001b[24m/lib/command.js:935:5\u001b[90m)\u001b[39m\n",
            "    at async Command.<anonymous> \u001b[90m(/content/onnxruntime-inference-examples/js/chat/\u001b[39mnode_modules/\u001b[4mwebpack-cli\u001b[24m/lib/webpack-cli.js:1356:13\u001b[90m)\u001b[39m\n",
            "    at async Command.parseAsync \u001b[90m(/content/onnxruntime-inference-examples/js/chat/\u001b[39mnode_modules/\u001b[4mwebpack-cli\u001b[24m/node_modules/\u001b[4mcommander\u001b[24m/lib/command.js:935:5\u001b[90m)\u001b[39m {\n",
            "  code: \u001b[32m'EADDRINUSE'\u001b[39m,\n",
            "  errno: \u001b[33m-98\u001b[39m,\n",
            "  syscall: \u001b[32m'listen'\u001b[39m,\n",
            "  address: \u001b[32m'::'\u001b[39m,\n",
            "  port: \u001b[33m8080\u001b[39m\n",
            "}\n",
            "\n",
            "Node.js v20.19.0\n",
            "\u001b[1G\u001b[0K⠙\u001b[1G\u001b[0K"
          ]
        }
      ]
    },
    {
      "cell_type": "code",
      "source": [
        "import os\n",
        "import subprocess\n",
        "import threading\n",
        "import time\n",
        "from pyngrok import ngrok\n",
        "\n",
        "# --- Configuration ---\n",
        "NGROK_TOKEN = \"2qoMyvN33sChLDfKL39OR8IDIxk_2hoKPdPQp4MUdSQbDPv6d\" # Replace with your token if needed\n",
        "PROJECT_DIR = \"/content/onnxruntime-inference-examples/js/chat\"\n",
        "DEV_SERVER_PORT = 8081 # Choose a port other than 8080\n",
        "# --- End Configuration ---\n",
        "\n",
        "# Change to the project directory\n",
        "try:\n",
        "    os.chdir(PROJECT_DIR)\n",
        "    print(f\"Changed directory to: {os.getcwd()}\")\n",
        "except FileNotFoundError:\n",
        "    print(f\"Error: Directory not found: {PROJECT_DIR}\")\n",
        "    print(\"Please ensure you have cloned the repository correctly, e.g., using:\")\n",
        "    print(\"!git clone https://github.com/microsoft/onnxruntime-inference-examples.git /content/onnxruntime-inference-examples\")\n",
        "    exit() # Stop if the directory doesn't exist\n",
        "\n",
        "# Set Ngrok auth token\n",
        "ngrok.set_auth_token(NGROK_TOKEN)\n",
        "\n",
        "# Function to start ngrok in a separate thread\n",
        "ngrok_tunnel = None\n",
        "public_url = None\n",
        "def start_ngrok():\n",
        "    global ngrok_tunnel, public_url\n",
        "    try:\n",
        "        # Connect ngrok to the port our dev server WILL use\n",
        "        ngrok_tunnel = ngrok.connect(DEV_SERVER_PORT)\n",
        "        public_url = ngrok_tunnel.public_url\n",
        "        print(f\"🚀 Ngrok Tunnel Open: {public_url} -> Forwarding localhost:{DEV_SERVER_PORT}\")\n",
        "    except Exception as e:\n",
        "        print(f\"Error starting ngrok: {e}\")\n",
        "        # Try to disconnect if partially started\n",
        "        try: ngrok.disconnect(public_url)\n",
        "        except: pass\n",
        "        try: ngrok.kill()\n",
        "        except: pass\n",
        "\n",
        "\n",
        "# Start ngrok in a background thread\n",
        "print(f\"Starting ngrok to forward port {DEV_SERVER_PORT}...\")\n",
        "ngrok_thread = threading.Thread(target=start_ngrok)\n",
        "ngrok_thread.daemon = True # Allow main program to exit even if thread is running\n",
        "ngrok_thread.start()\n",
        "\n",
        "# Wait a bit for ngrok to initialize and print the URL\n",
        "print(\"Waiting for ngrok to start...\")\n",
        "time.sleep(8) # Increased wait time slightly\n",
        "\n",
        "if public_url:\n",
        "    print(f\"Ngrok started successfully. Public URL: {public_url}\")\n",
        "    print(f\"\\nStarting Node.js development server on port {DEV_SERVER_PORT}...\")\n",
        "\n",
        "    # Execute the node.js development server, telling it to use the new port\n",
        "    # We use subprocess for better control and error handling than '!'\n",
        "    # The '-- --port' syntax passes the port argument *through* npm to the underlying script\n",
        "    try:\n",
        "        process = subprocess.Popen(\n",
        "            f'npm run dev -- --port {DEV_SERVER_PORT}',\n",
        "            shell=True,\n",
        "            stdout=subprocess.PIPE,\n",
        "            stderr=subprocess.STDOUT, # Combine stdout and stderr\n",
        "            text=True,\n",
        "            bufsize=1, # Line buffered\n",
        "            cwd=PROJECT_DIR # Ensure it runs in the correct directory\n",
        "        )\n",
        "\n",
        "        # Print output as it comes\n",
        "        for line in iter(process.stdout.readline, ''):\n",
        "            print(line, end='')\n",
        "\n",
        "        process.stdout.close()\n",
        "        return_code = process.wait()\n",
        "        if return_code:\n",
        "            print(f\"\\nNode.js server exited with error code: {return_code}\")\n",
        "\n",
        "    except Exception as e:\n",
        "        print(f\"Error running 'npm run dev': {e}\")\n",
        "    finally:\n",
        "        # Clean up ngrok when done or if an error occurs\n",
        "        print(\"\\nShutting down ngrok...\")\n",
        "        try: ngrok.disconnect(public_url)\n",
        "        except: pass\n",
        "        try: ngrok.kill()\n",
        "        except: pass\n",
        "        print(\"Ngrok shut down.\")\n",
        "\n",
        "else:\n",
        "    print(\"Error: Ngrok tunnel could not be established. Cannot start dev server.\")"
      ],
      "metadata": {
        "colab": {
          "base_uri": "https://localhost:8080/",
          "height": 855
        },
        "id": "7TD0EWRRatTz",
        "outputId": "5b1ddf45-d724-49e1-c720-d2ac04445c0c"
      },
      "execution_count": 11,
      "outputs": [
        {
          "output_type": "stream",
          "name": "stdout",
          "text": [
            "Changed directory to: /content/onnxruntime-inference-examples/js/chat\n",
            "Starting ngrok to forward port 8081...\n",
            "Waiting for ngrok to start...\n",
            "🚀 Ngrok Tunnel Open: https://6017-34-122-147-1.ngrok-free.app -> Forwarding localhost:8081\n",
            "Ngrok started successfully. Public URL: https://6017-34-122-147-1.ngrok-free.app\n",
            "\n",
            "Starting Node.js development server on port 8081...\n",
            "\n",
            "> localchat@0.0.0 dev\n",
            "> webpack serve --no-client-overlay --port 8081\n",
            "\n",
            "<i> [webpack-dev-server] Project is running at:\n",
            "<i> [webpack-dev-server] Loopback: http://localhost:8081/, http://[::1]:8081/\n",
            "<i> [webpack-dev-server] On Your Network (IPv4): http://172.28.0.12:8081/\n",
            "<i> [webpack-dev-server] Content not from webpack is served from '/content/onnxruntime-inference-examples/js/chat' directory\n",
            "assets by path dist/*.wasm 37.3 MiB\n",
            "  asset dist/ort-wasm-simd-threaded.jsep.wasm 19.7 MiB [emitted] [from: node_modules/onnxruntime-web/dist/ort-wasm-simd-threaded.jsep.wasm] [copied]\n",
            "  asset dist/ort-wasm-simd.jsep.wasm 17.6 MiB [emitted] [from: node_modules/onnxruntime-web/dist/ort-wasm-simd.jsep.wasm] [copied]\n",
            "assets by path dist/*.js 5.01 MiB\n",
            "  asset dist/main.min.js 2.5 MiB [emitted] [javascript module] (name: dist/main.min) 1 related asset\n",
            "  asset dist/main.js 2.5 MiB [emitted] [javascript module] (name: dist/main) 1 related asset\n",
            "runtime modules 22.4 KiB 14 modules\n",
            "modules by path ./node_modules/ 2.31 MiB\n",
            "  modules by path ./node_modules/@xenova/transformers/ 1.34 MiB 17 modules\n",
            "  modules by path ./node_modules/onnxruntime-common/dist/lib/*.js 35.3 KiB 10 modules\n",
            "  modules by path ./node_modules/webpack-dev-server/client/ 84.8 KiB 8 modules\n",
            "  modules by path ./node_modules/webpack/hot/*.js 5.17 KiB 4 modules\n",
            "  + 5 modules\n",
            "modules by path ./*.js 16.5 KiB\n",
            "  ./main.js 9.02 KiB [built] [code generated]\n",
            "  ./llm.js 7.5 KiB [built] [code generated]\n",
            "+ 7 modules\n",
            "webpack 5.99.7 compiled successfully in 5353 ms\n",
            "\n",
            "Shutting down ngrok...\n",
            "Ngrok shut down.\n"
          ]
        },
        {
          "output_type": "error",
          "ename": "KeyboardInterrupt",
          "evalue": "",
          "traceback": [
            "\u001b[0;31m---------------------------------------------------------------------------\u001b[0m",
            "\u001b[0;31mKeyboardInterrupt\u001b[0m                         Traceback (most recent call last)",
            "\u001b[0;32m<ipython-input-11-b6d5e2087d5f>\u001b[0m in \u001b[0;36m<cell line: 0>\u001b[0;34m()\u001b[0m\n\u001b[1;32m     72\u001b[0m \u001b[0;34m\u001b[0m\u001b[0m\n\u001b[1;32m     73\u001b[0m         \u001b[0;31m# Print output as it comes\u001b[0m\u001b[0;34m\u001b[0m\u001b[0;34m\u001b[0m\u001b[0m\n\u001b[0;32m---> 74\u001b[0;31m         \u001b[0;32mfor\u001b[0m \u001b[0mline\u001b[0m \u001b[0;32min\u001b[0m \u001b[0miter\u001b[0m\u001b[0;34m(\u001b[0m\u001b[0mprocess\u001b[0m\u001b[0;34m.\u001b[0m\u001b[0mstdout\u001b[0m\u001b[0;34m.\u001b[0m\u001b[0mreadline\u001b[0m\u001b[0;34m,\u001b[0m \u001b[0;34m''\u001b[0m\u001b[0;34m)\u001b[0m\u001b[0;34m:\u001b[0m\u001b[0;34m\u001b[0m\u001b[0;34m\u001b[0m\u001b[0m\n\u001b[0m\u001b[1;32m     75\u001b[0m             \u001b[0mprint\u001b[0m\u001b[0;34m(\u001b[0m\u001b[0mline\u001b[0m\u001b[0;34m,\u001b[0m \u001b[0mend\u001b[0m\u001b[0;34m=\u001b[0m\u001b[0;34m''\u001b[0m\u001b[0;34m)\u001b[0m\u001b[0;34m\u001b[0m\u001b[0;34m\u001b[0m\u001b[0m\n\u001b[1;32m     76\u001b[0m \u001b[0;34m\u001b[0m\u001b[0m\n",
            "\u001b[0;31mKeyboardInterrupt\u001b[0m: "
          ]
        }
      ]
    },
    {
      "cell_type": "markdown",
      "source": [
        "### شغال"
      ],
      "metadata": {
        "id": "KTDfJVZdbE7L"
      }
    },
    {
      "cell_type": "code",
      "source": [
        "import os\n",
        "import subprocess\n",
        "import threading\n",
        "import time\n",
        "from pyngrok import ngrok\n",
        "import re # Import regex module\n",
        "\n",
        "# --- Configuration ---\n",
        "NGROK_TOKEN = \"2qoMyvN33sChLDfKL39OR8IDIxk_2hoKPdPQp4MUdSQbDPv6d\" # Replace with your token if needed\n",
        "PROJECT_DIR = \"/content/onnxruntime-inference-examples/js/chat\"\n",
        "DEV_SERVER_PORT = 8081 # Choose a port other than 8080\n",
        "# --- End Configuration ---\n",
        "\n",
        "# Change to the project directory\n",
        "try:\n",
        "    os.chdir(PROJECT_DIR)\n",
        "    print(f\"Changed directory to: {os.getcwd()}\")\n",
        "except FileNotFoundError:\n",
        "    print(f\"Error: Directory not found: {PROJECT_DIR}\")\n",
        "    print(\"Please ensure you have cloned the repository correctly, e.g., using:\")\n",
        "    print(\"!git clone https://github.com/microsoft/onnxruntime-inference-examples.git /content/onnxruntime-inference-examples\")\n",
        "    exit() # Stop if the directory doesn't exist\n",
        "\n",
        "# Set Ngrok auth token\n",
        "ngrok.set_auth_token(NGROK_TOKEN)\n",
        "\n",
        "# Function to start ngrok in a separate thread\n",
        "ngrok_tunnel = None\n",
        "public_url = None\n",
        "ngrok_host = None # Variable to store the ngrok hostname\n",
        "\n",
        "def start_ngrok():\n",
        "    global ngrok_tunnel, public_url, ngrok_host\n",
        "    try:\n",
        "        # Connect ngrok to the port our dev server WILL use\n",
        "        ngrok_tunnel = ngrok.connect(DEV_SERVER_PORT)\n",
        "        public_url = ngrok_tunnel.public_url\n",
        "        # Extract the hostname (e.g., 3db5-34-122-147-1.ngrok-free.app)\n",
        "        match = re.search(r\"https?://([^/]+)\", public_url)\n",
        "        if match:\n",
        "            ngrok_host = match.group(1)\n",
        "        print(f\"🚀 Ngrok Tunnel Open: {public_url} -> Forwarding localhost:{DEV_SERVER_PORT}\")\n",
        "        if ngrok_host:\n",
        "             print(f\"   Ngrok host: {ngrok_host}\")\n",
        "    except Exception as e:\n",
        "        print(f\"Error starting ngrok: {e}\")\n",
        "        # Try to disconnect if partially started\n",
        "        try: ngrok.disconnect(public_url)\n",
        "        except: pass\n",
        "        try: ngrok.kill()\n",
        "        except: pass\n",
        "\n",
        "\n",
        "# Start ngrok in a background thread\n",
        "print(f\"Starting ngrok to forward port {DEV_SERVER_PORT}...\")\n",
        "ngrok_thread = threading.Thread(target=start_ngrok)\n",
        "ngrok_thread.daemon = True # Allow main program to exit even if thread is running\n",
        "ngrok_thread.start()\n",
        "\n",
        "# Wait a bit for ngrok to initialize and print the URL\n",
        "print(\"Waiting for ngrok to start...\")\n",
        "time.sleep(8)\n",
        "\n",
        "if public_url and ngrok_host:\n",
        "    print(f\"Ngrok started successfully. Public URL: {public_url}\")\n",
        "    print(f\"\\nStarting Node.js development server on port {DEV_SERVER_PORT}...\")\n",
        "    print(f\"Allowing requests from host: {ngrok_host}\")\n",
        "\n",
        "    # --- MODIFIED LINE ---\n",
        "    # Execute the node.js development server, telling it the port AND allowed host\n",
        "    # Use --allowed-hosts instead of the older --disable-host-check\n",
        "    # We pass the specific ngrok hostname we extracted\n",
        "    # Note: Some webpack versions might prefer 'all' instead of the specific host\n",
        "    # If the specific host doesn't work, try replacing {ngrok_host} with 'all'\n",
        "    npm_command = f'npm run dev -- --port {DEV_SERVER_PORT} --allowed-hosts {ngrok_host}'\n",
        "    # Alternative if the above fails:\n",
        "    # npm_command = f'npm run dev -- --port {DEV_SERVER_PORT} --allowed-hosts all'\n",
        "    print(f\"Executing command: {npm_command}\")\n",
        "    # --- END MODIFIED LINE ---\n",
        "\n",
        "    try:\n",
        "        process = subprocess.Popen(\n",
        "            npm_command,\n",
        "            shell=True,\n",
        "            stdout=subprocess.PIPE,\n",
        "            stderr=subprocess.STDOUT, # Combine stdout and stderr\n",
        "            text=True,\n",
        "            bufsize=1, # Line buffered\n",
        "            cwd=PROJECT_DIR # Ensure it runs in the correct directory\n",
        "        )\n",
        "\n",
        "        # Print output as it comes\n",
        "        for line in iter(process.stdout.readline, ''):\n",
        "            print(line, end='')\n",
        "\n",
        "        process.stdout.close()\n",
        "        return_code = process.wait()\n",
        "        if return_code:\n",
        "            print(f\"\\nNode.js server exited with error code: {return_code}\")\n",
        "\n",
        "    except Exception as e:\n",
        "        print(f\"Error running 'npm run dev': {e}\")\n",
        "    finally:\n",
        "        # Clean up ngrok when done or if an error occurs\n",
        "        print(\"\\nShutting down ngrok...\")\n",
        "        try: ngrok.disconnect(public_url)\n",
        "        except: pass\n",
        "        try: ngrok.kill()\n",
        "        except: pass\n",
        "        print(\"Ngrok shut down.\")\n",
        "\n",
        "else:\n",
        "    print(\"Error: Ngrok tunnel could not be established or hostname not extracted. Cannot start dev server.\")\n",
        "    # Clean up ngrok if it partially started\n",
        "    print(\"\\nAttempting ngrok cleanup...\")\n",
        "    try: ngrok.disconnect(public_url)\n",
        "    except: pass\n",
        "    try: ngrok.kill()\n",
        "    except: pass\n",
        "    print(\"Ngrok shut down attempt complete.\")"
      ],
      "metadata": {
        "colab": {
          "base_uri": "https://localhost:8080/",
          "height": 959
        },
        "id": "11cKTb1aatxs",
        "outputId": "85ce19d4-4949-44ee-8775-4fae2433aec5"
      },
      "execution_count": 1,
      "outputs": [
        {
          "output_type": "stream",
          "name": "stdout",
          "text": [
            "Changed directory to: /content/onnxruntime-inference-examples/js/chat\n",
            "Starting ngrok to forward port 8081...\n",
            "Waiting for ngrok to start...\n",
            "🚀 Ngrok Tunnel Open: https://ec82-34-122-147-1.ngrok-free.app -> Forwarding localhost:8081\n",
            "   Ngrok host: ec82-34-122-147-1.ngrok-free.app\n"
          ]
        },
        {
          "output_type": "stream",
          "name": "stderr",
          "text": [
            "WARNING:pyngrok.process.ngrok:t=2025-04-27T22:59:45+0000 lvl=warn msg=\"failed to open private leg\" id=cef75b98e4cb privaddr=localhost:8081 err=\"dial tcp 127.0.0.1:8081: connect: connection refused\"\n",
            "WARNING:pyngrok.process.ngrok:t=2025-04-27T22:59:46+0000 lvl=warn msg=\"failed to open private leg\" id=196ce6ff4104 privaddr=localhost:8081 err=\"dial tcp 127.0.0.1:8081: connect: connection refused\"\n"
          ]
        },
        {
          "output_type": "stream",
          "name": "stdout",
          "text": [
            "Ngrok started successfully. Public URL: https://ec82-34-122-147-1.ngrok-free.app\n",
            "\n",
            "Starting Node.js development server on port 8081...\n",
            "Allowing requests from host: ec82-34-122-147-1.ngrok-free.app\n",
            "Executing command: npm run dev -- --port 8081 --allowed-hosts ec82-34-122-147-1.ngrok-free.app\n",
            "\n",
            "> localchat@0.0.0 dev\n",
            "> webpack serve --no-client-overlay --port 8081 --allowed-hosts ec82-34-122-147-1.ngrok-free.app\n",
            "\n",
            "<i> [webpack-dev-server] Project is running at:\n",
            "<i> [webpack-dev-server] Loopback: http://localhost:8081/, http://[::1]:8081/\n",
            "<i> [webpack-dev-server] On Your Network (IPv4): http://172.28.0.12:8081/\n",
            "<i> [webpack-dev-server] Content not from webpack is served from '/content/onnxruntime-inference-examples/js/chat' directory\n",
            "<i> [webpack-dev-middleware] wait until bundle finished: /\n",
            "assets by path dist/*.wasm 37.3 MiB\n",
            "  asset dist/ort-wasm-simd-threaded.jsep.wasm 19.7 MiB [emitted] [from: node_modules/onnxruntime-web/dist/ort-wasm-simd-threaded.jsep.wasm] [copied]\n",
            "  asset dist/ort-wasm-simd.jsep.wasm 17.6 MiB [emitted] [from: node_modules/onnxruntime-web/dist/ort-wasm-simd.jsep.wasm] [copied]\n",
            "assets by path dist/*.js 5.01 MiB\n",
            "  asset dist/main.min.js 2.5 MiB [emitted] [javascript module] (name: dist/main.min) 1 related asset\n",
            "  asset dist/main.js 2.5 MiB [emitted] [javascript module] (name: dist/main) 1 related asset\n",
            "runtime modules 22.4 KiB 14 modules\n",
            "modules by path ./node_modules/ 2.31 MiB\n",
            "  modules by path ./node_modules/@xenova/transformers/ 1.34 MiB 17 modules\n",
            "  modules by path ./node_modules/onnxruntime-common/dist/lib/*.js 35.3 KiB 10 modules\n",
            "  modules by path ./node_modules/webpack-dev-server/client/ 84.8 KiB 8 modules\n",
            "  modules by path ./node_modules/webpack/hot/*.js 5.17 KiB 4 modules\n",
            "  + 5 modules\n",
            "modules by path ./*.js 16.5 KiB\n",
            "  ./main.js 9.02 KiB [built] [code generated]\n",
            "  ./llm.js 7.5 KiB [built] [code generated]\n",
            "+ 7 modules\n",
            "webpack 5.99.7 compiled successfully in 6535 ms\n",
            "\n",
            "Shutting down ngrok...\n",
            "Ngrok shut down.\n"
          ]
        },
        {
          "output_type": "error",
          "ename": "KeyboardInterrupt",
          "evalue": "",
          "traceback": [
            "\u001b[0;31m---------------------------------------------------------------------------\u001b[0m",
            "\u001b[0;31mKeyboardInterrupt\u001b[0m                         Traceback (most recent call last)",
            "\u001b[0;32m<ipython-input-1-aba38ad03b26>\u001b[0m in \u001b[0;36m<cell line: 0>\u001b[0;34m()\u001b[0m\n\u001b[1;32m     91\u001b[0m \u001b[0;34m\u001b[0m\u001b[0m\n\u001b[1;32m     92\u001b[0m         \u001b[0;31m# Print output as it comes\u001b[0m\u001b[0;34m\u001b[0m\u001b[0;34m\u001b[0m\u001b[0m\n\u001b[0;32m---> 93\u001b[0;31m         \u001b[0;32mfor\u001b[0m \u001b[0mline\u001b[0m \u001b[0;32min\u001b[0m \u001b[0miter\u001b[0m\u001b[0;34m(\u001b[0m\u001b[0mprocess\u001b[0m\u001b[0;34m.\u001b[0m\u001b[0mstdout\u001b[0m\u001b[0;34m.\u001b[0m\u001b[0mreadline\u001b[0m\u001b[0;34m,\u001b[0m \u001b[0;34m''\u001b[0m\u001b[0;34m)\u001b[0m\u001b[0;34m:\u001b[0m\u001b[0;34m\u001b[0m\u001b[0;34m\u001b[0m\u001b[0m\n\u001b[0m\u001b[1;32m     94\u001b[0m             \u001b[0mprint\u001b[0m\u001b[0;34m(\u001b[0m\u001b[0mline\u001b[0m\u001b[0;34m,\u001b[0m \u001b[0mend\u001b[0m\u001b[0;34m=\u001b[0m\u001b[0;34m''\u001b[0m\u001b[0;34m)\u001b[0m\u001b[0;34m\u001b[0m\u001b[0;34m\u001b[0m\u001b[0m\n\u001b[1;32m     95\u001b[0m \u001b[0;34m\u001b[0m\u001b[0m\n",
            "\u001b[0;31mKeyboardInterrupt\u001b[0m: "
          ]
        }
      ]
    },
    {
      "cell_type": "code",
      "source": [],
      "metadata": {
        "id": "rwiItXJ-a9vs"
      },
      "execution_count": null,
      "outputs": []
    }
  ]
}